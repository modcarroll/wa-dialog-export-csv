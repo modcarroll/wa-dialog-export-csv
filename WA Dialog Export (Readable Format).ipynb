{
 "cells": [
  {
   "cell_type": "markdown",
   "metadata": {},
   "source": [
    "# Watson Assistant Dialog Export (Readable Format)\n",
    "This notebook will export the dialog from a given skill into a readable .csv format. The output will resemble:\n",
    "\n",
    "| Title | Conditions  | Output |\n",
    "|------|------|------|\n",
    "|   Welcome  | #welcome| Welcome to my bot! |\n",
    "|...|...|...|\n",
    "|Live Agent|#escalate|One moment while I transfer you...|\n",
    "\n",
    "Follow Steps 1 & 2 below then run all the cells. You can download the output in your project assets as `dialog_output.csv`"
   ]
  },
  {
   "cell_type": "markdown",
   "metadata": {},
   "source": [
    "## Step 1: Insert your project token here ([Directions](https://dataplatform.cloud.ibm.com/docs/content/wsj/analyze-data/token.html))"
   ]
  },
  {
   "cell_type": "code",
   "execution_count": null,
   "metadata": {},
   "outputs": [],
   "source": [
    "# @hidden_cell\n",
    "# The project token is an authorization token that is used to access project resources like data sources, connections, and used by platform APIs.\n",
    "from project_lib import Project\n",
    "project = Project(project_id='537e4f12-aeaa-4390-940a-8a2c406af632', project_access_token='p-9fcf5c343afe96973ef0268a085d5ff38e3cd0b9')\n",
    "pc = project.project_context"
   ]
  },
  {
   "cell_type": "markdown",
   "metadata": {},
   "source": [
    "## Step 2: Enter your Watson Assistant credentials"
   ]
  },
  {
   "cell_type": "code",
   "execution_count": null,
   "metadata": {},
   "outputs": [],
   "source": [
    "wa_version = \"2020-09-24\"\n",
    "wa_apikey = \"123myapikey\"\n",
    "wa_url = \"https://gateway.watsonplatform.net/assistant/api/\"\n",
    "wa_skill = \"skillid\""
   ]
  },
  {
   "cell_type": "code",
   "execution_count": null,
   "metadata": {},
   "outputs": [],
   "source": [
    "# @hidden_cell\n",
    "wa_version = \"2020-09-24\"\n",
    "wa_apikey = \"RZBaqOcPPgvBkii5yuqfrEWc6ji7vUo1FVm3QcvW4zsz\"\n",
    "wa_url = \"https://gateway.watsonplatform.net/assistant/api/\"\n",
    "wa_skill = \"0618c639-5b4d-4b46-8e1c-d86aa0772994\""
   ]
  },
  {
   "cell_type": "markdown",
   "metadata": {},
   "source": [
    "### This section instantiates the Watson Assistant connection"
   ]
  },
  {
   "cell_type": "code",
   "execution_count": null,
   "metadata": {},
   "outputs": [],
   "source": [
    "import json\n",
    "!pip install ibm-watson\n",
    "import os\n",
    "import pandas as panda\n",
    "import ibm_watson\n",
    "from ibm_cloud_sdk_core.authenticators import IAMAuthenticator\n",
    "\n",
    "authenticator = IAMAuthenticator(wa_apikey)\n",
    "\n",
    "assistant_service=ibm_watson.AssistantV1(\n",
    "    version = wa_version,\n",
    "    authenticator = authenticator\n",
    ")\n",
    "\n",
    "assistant_service.set_service_url(wa_url)"
   ]
  },
  {
   "cell_type": "markdown",
   "metadata": {},
   "source": [
    "### This section formats the output into a readable format and saves it as dialog_output.csv"
   ]
  },
  {
   "cell_type": "code",
   "execution_count": null,
   "metadata": {},
   "outputs": [],
   "source": [
    "workspace_response = assistant_service.get_workspace(\n",
    "    workspace_id = wa_skill,\n",
    "    export=True\n",
    ").get_result()\n",
    "\n",
    "formattedOutputDict = []\n",
    "\n",
    "for node in workspace_response['dialog_nodes']:\n",
    "    outputText = \"\"\n",
    "    if 'output' in node:\n",
    "        if 'generic' in node['output']:\n",
    "            for item in node['output']['generic']:\n",
    "                if item['response_type'] == \"text\":\n",
    "                    for response in item['values']:\n",
    "                        outputText += \" \" + response['text'] + \" \"\n",
    "                if item['response_type'] == \"option\":\n",
    "                    outputText += str(item)\n",
    "                if item['response_type'] == \"connect_to_agent\":\n",
    "                    outputText += \" CONNECT TO AGENT \"\n",
    "                if item['response_type'] == \"search_skill\":\n",
    "                    outputText += \" SEARCH SKILL \"\n",
    "\n",
    "                if 'title' in node:\n",
    "                    title = node['title']\n",
    "                else:\n",
    "                    title = 'NONE'\n",
    "                if 'conditions' in node:\n",
    "                    condition = node['conditions']\n",
    "                else:\n",
    "                    condition = 'NONE'\n",
    "                    \n",
    "    if len(outputText) > 0:\n",
    "        thisNode = {'title': title, 'conditions': condition, 'outputText': outputText}\n",
    "        formattedOutputDict.append(thisNode)\n",
    "\n",
    "df = panda.DataFrame(formattedOutputDict)\n",
    "print(df)\n",
    "project.save_data(\"dialog_output.csv\", df.to_csv(index=False), overwrite=True)\n",
    "\n",
    "print(\"Dialog downloaded ✅\")"
   ]
  }
 ],
 "metadata": {
  "kernelspec": {
   "display_name": "Python 3.7",
   "language": "python",
   "name": "python3"
  },
  "language_info": {
   "codemirror_mode": {
    "name": "ipython",
    "version": 3
   },
   "file_extension": ".py",
   "mimetype": "text/x-python",
   "name": "python",
   "nbconvert_exporter": "python",
   "pygments_lexer": "ipython3",
   "version": "3.7.9"
  }
 },
 "nbformat": 4,
 "nbformat_minor": 2
}
